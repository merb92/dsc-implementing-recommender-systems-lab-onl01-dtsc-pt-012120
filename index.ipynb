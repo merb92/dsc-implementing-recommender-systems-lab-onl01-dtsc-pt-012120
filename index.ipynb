{
 "cells": [
  {
   "cell_type": "markdown",
   "metadata": {},
   "source": [
    "# Implementing Recommender Systems - Lab\n",
    "\n",
    "## Introduction\n",
    "\n",
    "In this lab, you'll practice creating a recommender system model using `surprise`. You'll also get the chance to create a more complete recommender system pipeline to obtain the top recommendations for a specific user.\n"
   ]
  },
  {
   "cell_type": "markdown",
   "metadata": {},
   "source": [
    "## Objectives\n",
    "\n",
    "In this lab you will: \n",
    "\n",
    "- Use surprise's built-in reader class to process data to work with recommender algorithms \n",
    "- Obtain a prediction for a specific user for a particular item \n",
    "- Introduce a new user with rating to a rating matrix and make recommendations for them \n",
    "- Create a function that will return the top n recommendations for a user \n"
   ]
  },
  {
   "cell_type": "markdown",
   "metadata": {},
   "source": [
    "For this lab, we will be using the famous 1M movie dataset. It contains a collection of user ratings for many different movies. In the last lesson, you were exposed to working with `surprise` datasets. In this lab, you will also go through the process of reading in a dataset into the `surprise` dataset format. To begin with, load the dataset into a Pandas DataFrame. Determine which columns are necessary for your recommendation system and drop any extraneous ones."
   ]
  },
  {
   "cell_type": "code",
   "execution_count": 1,
   "metadata": {
    "ExecuteTime": {
     "end_time": "2020-07-24T16:26:07.925371Z",
     "start_time": "2020-07-24T16:26:00.690829Z"
    }
   },
   "outputs": [
    {
     "name": "stdout",
     "output_type": "stream",
     "text": [
      "<class 'pandas.core.frame.DataFrame'>\n",
      "RangeIndex: 100836 entries, 0 to 100835\n",
      "Data columns (total 4 columns):\n",
      " #   Column     Non-Null Count   Dtype  \n",
      "---  ------     --------------   -----  \n",
      " 0   userId     100836 non-null  int64  \n",
      " 1   movieId    100836 non-null  int64  \n",
      " 2   rating     100836 non-null  float64\n",
      " 3   timestamp  100836 non-null  int64  \n",
      "dtypes: float64(1), int64(3)\n",
      "memory usage: 3.1 MB\n"
     ]
    }
   ],
   "source": [
    "import pandas as pd\n",
    "df = pd.read_csv('./ml-latest-small/ratings.csv')\n",
    "df.info()"
   ]
  },
  {
   "cell_type": "code",
   "execution_count": 2,
   "metadata": {
    "ExecuteTime": {
     "end_time": "2020-07-24T16:26:07.951070Z",
     "start_time": "2020-07-24T16:26:07.929710Z"
    }
   },
   "outputs": [],
   "source": [
    "# Drop unnecessary columns\n",
    "new_df = df.drop('timestamp', axis=1)"
   ]
  },
  {
   "cell_type": "markdown",
   "metadata": {},
   "source": [
    "It's now time to transform the dataset into something compatible with `surprise`. In order to do this, you're going to need `Reader` and `Dataset` classes. There's a method in `Dataset` specifically for loading dataframes."
   ]
  },
  {
   "cell_type": "code",
   "execution_count": 3,
   "metadata": {
    "ExecuteTime": {
     "end_time": "2020-07-24T16:26:08.182406Z",
     "start_time": "2020-07-24T16:26:07.954169Z"
    }
   },
   "outputs": [
    {
     "data": {
      "text/plain": [
       "count    100836.000000\n",
       "mean          3.501557\n",
       "std           1.042529\n",
       "min           0.500000\n",
       "25%           3.000000\n",
       "50%           3.500000\n",
       "75%           4.000000\n",
       "max           5.000000\n",
       "Name: rating, dtype: float64"
      ]
     },
     "execution_count": 3,
     "metadata": {},
     "output_type": "execute_result"
    }
   ],
   "source": [
    "new_df.rating.describe()"
   ]
  },
  {
   "cell_type": "code",
   "execution_count": 4,
   "metadata": {
    "ExecuteTime": {
     "end_time": "2020-07-24T16:26:09.765278Z",
     "start_time": "2020-07-24T16:26:08.185037Z"
    }
   },
   "outputs": [],
   "source": [
    "from surprise import Reader, Dataset\n",
    "# read in values as Surprise dataset \n",
    "reader = Reader(rating_scale=(0.5, 5))\n",
    "data = Dataset.load_from_df(new_df, reader)\n"
   ]
  },
  {
   "cell_type": "markdown",
   "metadata": {},
   "source": [
    "Let's look at how many users and items we have in our dataset. If using neighborhood-based methods, this will help us determine whether or not we should perform user-user or item-item similarity"
   ]
  },
  {
   "cell_type": "code",
   "execution_count": 5,
   "metadata": {
    "ExecuteTime": {
     "end_time": "2020-07-24T16:26:09.973276Z",
     "start_time": "2020-07-24T16:26:09.768019Z"
    }
   },
   "outputs": [
    {
     "name": "stdout",
     "output_type": "stream",
     "text": [
      "Number of users:  610 \n",
      "\n",
      "Number of items:  9724\n"
     ]
    }
   ],
   "source": [
    "dataset = data.build_full_trainset()\n",
    "print('Number of users: ', dataset.n_users, '\\n')\n",
    "print('Number of items: ', dataset.n_items)"
   ]
  },
  {
   "cell_type": "markdown",
   "metadata": {},
   "source": [
    "## Determine the best model \n",
    "\n",
    "Now, compare the different models and see which ones perform best. For consistency sake, use RMSE to evaluate models. Remember to cross-validate! Can you get a model with a higher average RMSE on test data than 0.869?"
   ]
  },
  {
   "cell_type": "code",
   "execution_count": 6,
   "metadata": {
    "ExecuteTime": {
     "end_time": "2020-07-24T16:26:09.982659Z",
     "start_time": "2020-07-24T16:26:09.975785Z"
    }
   },
   "outputs": [],
   "source": [
    "# importing relevant libraries\n",
    "from surprise.model_selection import cross_validate\n",
    "from surprise.prediction_algorithms import SVD\n",
    "from surprise.prediction_algorithms import KNNWithMeans, KNNBasic, KNNBaseline\n",
    "from surprise.model_selection import GridSearchCV\n",
    "import numpy as np"
   ]
  },
  {
   "cell_type": "code",
   "execution_count": 7,
   "metadata": {
    "ExecuteTime": {
     "end_time": "2020-07-24T16:30:33.095390Z",
     "start_time": "2020-07-24T16:26:09.985553Z"
    }
   },
   "outputs": [
    {
     "name": "stderr",
     "output_type": "stream",
     "text": [
      "[Parallel(n_jobs=-1)]: Using backend LokyBackend with 4 concurrent workers.\n",
      "[Parallel(n_jobs=-1)]: Done  10 tasks      | elapsed:   34.8s\n",
      "[Parallel(n_jobs=-1)]: Done  64 tasks      | elapsed:  3.5min\n",
      "[Parallel(n_jobs=-1)]: Done  80 out of  80 | elapsed:  4.4min finished\n"
     ]
    }
   ],
   "source": [
    "## Perform a gridsearch with SVD\n",
    "# ⏰ This cell may take several minutes to run\n",
    "param_grid_svd =  {'n_factors':[20, 100], \n",
    "                   'n_epochs': [5, 10], \n",
    "                   'lr_all': [0.002, 0.005], \n",
    "                   'reg_all': [0.4, 0.6]}\n",
    "gs_svd = GridSearchCV(SVD, param_grid=param_grid_svd, n_jobs=-1, joblib_verbose=5)\n",
    "gs_svd.fit(data)"
   ]
  },
  {
   "cell_type": "code",
   "execution_count": 8,
   "metadata": {
    "ExecuteTime": {
     "end_time": "2020-07-24T16:30:33.114513Z",
     "start_time": "2020-07-24T16:30:33.103126Z"
    }
   },
   "outputs": [
    {
     "data": {
      "text/plain": [
       "{'rmse': {'n_factors': 20, 'n_epochs': 10, 'lr_all': 0.005, 'reg_all': 0.4},\n",
       " 'mae': {'n_factors': 20, 'n_epochs': 10, 'lr_all': 0.005, 'reg_all': 0.4}}"
      ]
     },
     "execution_count": 8,
     "metadata": {},
     "output_type": "execute_result"
    }
   ],
   "source": [
    "# print out optimal parameters for SVD after GridSearch\n",
    "gs_svd.best_params"
   ]
  },
  {
   "cell_type": "code",
   "execution_count": 9,
   "metadata": {
    "ExecuteTime": {
     "end_time": "2020-07-24T16:30:33.128248Z",
     "start_time": "2020-07-24T16:30:33.119845Z"
    }
   },
   "outputs": [
    {
     "data": {
      "text/plain": [
       "{'rmse': 0.8906020106276541, 'mae': 0.6892402711529061}"
      ]
     },
     "execution_count": 9,
     "metadata": {},
     "output_type": "execute_result"
    }
   ],
   "source": [
    "gs_svd.best_score"
   ]
  },
  {
   "cell_type": "code",
   "execution_count": 10,
   "metadata": {
    "ExecuteTime": {
     "end_time": "2020-07-24T16:30:53.134218Z",
     "start_time": "2020-07-24T16:30:33.131409Z"
    }
   },
   "outputs": [],
   "source": [
    "# cross validating with KNNBasic\n",
    "sim_cos = {'name': 'cosine', 'user_based':True}\n",
    "basic = KNNBasic(sim_options=sim_cos)\n",
    "knn_cv = cross_validate(basic, data, n_jobs=-1)"
   ]
  },
  {
   "cell_type": "code",
   "execution_count": 11,
   "metadata": {
    "ExecuteTime": {
     "end_time": "2020-07-24T16:30:53.142172Z",
     "start_time": "2020-07-24T16:30:53.136404Z"
    }
   },
   "outputs": [
    {
     "name": "stdout",
     "output_type": "stream",
     "text": [
      "ave RMSE for test set 0.9729717172419665\n"
     ]
    }
   ],
   "source": [
    "# print out the average RMSE score for the test set\n",
    "print(f\"ave RMSE for test set {knn_cv['test_rmse'].mean()}\")"
   ]
  },
  {
   "cell_type": "code",
   "execution_count": 12,
   "metadata": {
    "ExecuteTime": {
     "end_time": "2020-07-24T16:31:14.269453Z",
     "start_time": "2020-07-24T16:30:53.144559Z"
    }
   },
   "outputs": [
    {
     "name": "stdout",
     "output_type": "stream",
     "text": [
      "Evaluating RMSE, MAE of algorithm KNNBaseline on 5 split(s).\n",
      "\n",
      "                  Fold 1  Fold 2  Fold 3  Fold 4  Fold 5  Mean    Std     \n",
      "RMSE (testset)    0.8758  0.8916  0.8682  0.8805  0.8778  0.8788  0.0076  \n",
      "MAE (testset)     0.6691  0.6802  0.6676  0.6738  0.6724  0.6726  0.0044  \n",
      "Fit time          0.63    0.68    0.72    0.69    0.60    0.66    0.05    \n",
      "Test time         3.53    3.57    3.51    3.50    3.13    3.45    0.16    \n"
     ]
    }
   ],
   "source": [
    "# cross validating with KNNBaseline\n",
    "baseline = KNNBaseline(sim_options=sim_cos)\n",
    "knn_baseline_cv = cross_validate(baseline, data, n_jobs=-1, verbose=True)"
   ]
  },
  {
   "cell_type": "code",
   "execution_count": 13,
   "metadata": {
    "ExecuteTime": {
     "end_time": "2020-07-24T16:31:14.275717Z",
     "start_time": "2020-07-24T16:31:14.271493Z"
    }
   },
   "outputs": [
    {
     "name": "stdout",
     "output_type": "stream",
     "text": [
      "ave RMSE for test set 0.8787740206098953\n"
     ]
    }
   ],
   "source": [
    "# print out the average score for the test set\n",
    "print(f\"ave RMSE for test set {knn_baseline_cv['test_rmse'].mean()}\")"
   ]
  },
  {
   "cell_type": "markdown",
   "metadata": {},
   "source": [
    "Based off these outputs, it seems like the best performing model is the SVD model with `n_factors = 50` and a regularization rate of 0.05. Use that model or if you found one that performs better, feel free to use that to make some predictions."
   ]
  },
  {
   "cell_type": "markdown",
   "metadata": {},
   "source": [
    "## Making Recommendations\n",
    "\n",
    "It's important that the output for the recommendation is interpretable to people. Rather than returning the `movie_id` values, it would be far more valuable to return the actual title of the movie. As a first step, let's read in the movies to a dataframe and take a peek at what information we have about them."
   ]
  },
  {
   "cell_type": "code",
   "execution_count": 14,
   "metadata": {
    "ExecuteTime": {
     "end_time": "2020-07-24T16:31:14.599833Z",
     "start_time": "2020-07-24T16:31:14.277758Z"
    }
   },
   "outputs": [],
   "source": [
    "df_movies = pd.read_csv('./ml-latest-small/movies.csv')"
   ]
  },
  {
   "cell_type": "code",
   "execution_count": 15,
   "metadata": {
    "ExecuteTime": {
     "end_time": "2020-07-24T16:31:14.691863Z",
     "start_time": "2020-07-24T16:31:14.601916Z"
    },
    "scrolled": true
   },
   "outputs": [
    {
     "data": {
      "text/html": [
       "<div>\n",
       "<style scoped>\n",
       "    .dataframe tbody tr th:only-of-type {\n",
       "        vertical-align: middle;\n",
       "    }\n",
       "\n",
       "    .dataframe tbody tr th {\n",
       "        vertical-align: top;\n",
       "    }\n",
       "\n",
       "    .dataframe thead th {\n",
       "        text-align: right;\n",
       "    }\n",
       "</style>\n",
       "<table border=\"1\" class=\"dataframe\">\n",
       "  <thead>\n",
       "    <tr style=\"text-align: right;\">\n",
       "      <th></th>\n",
       "      <th>movieId</th>\n",
       "      <th>title</th>\n",
       "      <th>genres</th>\n",
       "    </tr>\n",
       "  </thead>\n",
       "  <tbody>\n",
       "    <tr>\n",
       "      <th>0</th>\n",
       "      <td>1</td>\n",
       "      <td>Toy Story (1995)</td>\n",
       "      <td>Adventure|Animation|Children|Comedy|Fantasy</td>\n",
       "    </tr>\n",
       "    <tr>\n",
       "      <th>1</th>\n",
       "      <td>2</td>\n",
       "      <td>Jumanji (1995)</td>\n",
       "      <td>Adventure|Children|Fantasy</td>\n",
       "    </tr>\n",
       "    <tr>\n",
       "      <th>2</th>\n",
       "      <td>3</td>\n",
       "      <td>Grumpier Old Men (1995)</td>\n",
       "      <td>Comedy|Romance</td>\n",
       "    </tr>\n",
       "    <tr>\n",
       "      <th>3</th>\n",
       "      <td>4</td>\n",
       "      <td>Waiting to Exhale (1995)</td>\n",
       "      <td>Comedy|Drama|Romance</td>\n",
       "    </tr>\n",
       "    <tr>\n",
       "      <th>4</th>\n",
       "      <td>5</td>\n",
       "      <td>Father of the Bride Part II (1995)</td>\n",
       "      <td>Comedy</td>\n",
       "    </tr>\n",
       "  </tbody>\n",
       "</table>\n",
       "</div>"
      ],
      "text/plain": [
       "   movieId                               title  \\\n",
       "0        1                    Toy Story (1995)   \n",
       "1        2                      Jumanji (1995)   \n",
       "2        3             Grumpier Old Men (1995)   \n",
       "3        4            Waiting to Exhale (1995)   \n",
       "4        5  Father of the Bride Part II (1995)   \n",
       "\n",
       "                                        genres  \n",
       "0  Adventure|Animation|Children|Comedy|Fantasy  \n",
       "1                   Adventure|Children|Fantasy  \n",
       "2                               Comedy|Romance  \n",
       "3                         Comedy|Drama|Romance  \n",
       "4                                       Comedy  "
      ]
     },
     "execution_count": 15,
     "metadata": {},
     "output_type": "execute_result"
    }
   ],
   "source": [
    "df_movies.head()"
   ]
  },
  {
   "cell_type": "markdown",
   "metadata": {},
   "source": [
    "## Making simple predictions\n",
    "Just as a reminder, let's look at how you make a prediction for an individual user and item. First, we'll fit the SVD model we had from before."
   ]
  },
  {
   "cell_type": "code",
   "execution_count": 16,
   "metadata": {
    "ExecuteTime": {
     "end_time": "2020-07-24T16:31:21.073687Z",
     "start_time": "2020-07-24T16:31:14.694006Z"
    }
   },
   "outputs": [
    {
     "data": {
      "text/plain": [
       "<surprise.prediction_algorithms.matrix_factorization.SVD at 0x11a2f0240>"
      ]
     },
     "execution_count": 16,
     "metadata": {},
     "output_type": "execute_result"
    }
   ],
   "source": [
    "svd = SVD(n_factors= 50, reg_all=0.05)\n",
    "svd.fit(dataset)"
   ]
  },
  {
   "cell_type": "code",
   "execution_count": 17,
   "metadata": {
    "ExecuteTime": {
     "end_time": "2020-07-24T16:31:21.082231Z",
     "start_time": "2020-07-24T16:31:21.075951Z"
    }
   },
   "outputs": [
    {
     "data": {
      "text/plain": [
       "Prediction(uid=2, iid=4, r_ui=None, est=2.959355918965109, details={'was_impossible': False})"
      ]
     },
     "execution_count": 17,
     "metadata": {},
     "output_type": "execute_result"
    }
   ],
   "source": [
    "svd.predict(2, 4)"
   ]
  },
  {
   "cell_type": "markdown",
   "metadata": {},
   "source": [
    "This prediction value is a tuple and each of the values within it can be accessed by way of indexing. Now let's put our knowledge of recommendation systems to do something interesting: making predictions for a new user!"
   ]
  },
  {
   "cell_type": "markdown",
   "metadata": {},
   "source": [
    "## Obtaining User Ratings \n",
    "\n",
    "It's great that we have working models and everything, but wouldn't it be nice to get to recommendations specifically tailored to your preferences? That's what we'll be doing now. The first step is to create a function that allows us to pick randomly selected movies. The function should present users with a movie and ask them to rate it. If they have not seen the movie, they should be able to skip rating it. \n",
    "\n",
    "The function `movie_rater()` should take as parameters: \n",
    "\n",
    "* `movie_df`: DataFrame - a dataframe containing the movie ids, name of movie, and genres\n",
    "* `num`: int - number of ratings\n",
    "* `genre`: string - a specific genre from which to draw movies\n",
    "\n",
    "The function returns:\n",
    "* rating_list : list - a collection of dictionaries in the format of {'userId': int , 'movieId': int , 'rating': float}\n",
    "\n",
    "#### This function is optional, but fun :) "
   ]
  },
  {
   "cell_type": "code",
   "execution_count": 18,
   "metadata": {
    "ExecuteTime": {
     "end_time": "2020-07-24T16:31:21.109494Z",
     "start_time": "2020-07-24T16:31:21.084996Z"
    }
   },
   "outputs": [],
   "source": [
    "def movie_rater(movie_df, num, userid, genre=None):\n",
    "    ratings = []\n",
    "    if genre != None:\n",
    "        movies_to_rate = movie_df[movie_df.genres.str.contains(genre)].sample(num)\n",
    "    else:\n",
    "        movies_to_rate = movie_df.sample(num)\n",
    "    display(movies_to_rate)\n",
    "    for i in range(num):\n",
    "        print('How do you rate this movie on a scale of 1-5, press n if you have not seen :')\n",
    "        print(movies_to_rate.iloc[i]['title'])\n",
    "        rating = input()\n",
    "        if rating == 'n':\n",
    "            rating = 0\n",
    "        ratings.append({'userId': userid, \n",
    "                        'movieId': movies_to_rate.iloc[i]['movieId'],\n",
    "                       'rating': float(rating)})\n",
    "    return ratings\n",
    "        "
   ]
  },
  {
   "cell_type": "code",
   "execution_count": 21,
   "metadata": {
    "ExecuteTime": {
     "end_time": "2020-07-24T16:38:36.087717Z",
     "start_time": "2020-07-24T16:37:45.046722Z"
    }
   },
   "outputs": [
    {
     "data": {
      "text/html": [
       "<div>\n",
       "<style scoped>\n",
       "    .dataframe tbody tr th:only-of-type {\n",
       "        vertical-align: middle;\n",
       "    }\n",
       "\n",
       "    .dataframe tbody tr th {\n",
       "        vertical-align: top;\n",
       "    }\n",
       "\n",
       "    .dataframe thead th {\n",
       "        text-align: right;\n",
       "    }\n",
       "</style>\n",
       "<table border=\"1\" class=\"dataframe\">\n",
       "  <thead>\n",
       "    <tr style=\"text-align: right;\">\n",
       "      <th></th>\n",
       "      <th>movieId</th>\n",
       "      <th>title</th>\n",
       "      <th>genres</th>\n",
       "    </tr>\n",
       "  </thead>\n",
       "  <tbody>\n",
       "    <tr>\n",
       "      <th>5685</th>\n",
       "      <td>27728</td>\n",
       "      <td>Ghost in the Shell 2: Innocence (a.k.a. Innoce...</td>\n",
       "      <td>Action|Animation|Drama|Sci-Fi|Thriller</td>\n",
       "    </tr>\n",
       "    <tr>\n",
       "      <th>8048</th>\n",
       "      <td>98607</td>\n",
       "      <td>Redline (2009)</td>\n",
       "      <td>Action|Animation|Sci-Fi</td>\n",
       "    </tr>\n",
       "    <tr>\n",
       "      <th>3682</th>\n",
       "      <td>5072</td>\n",
       "      <td>Metropolis (2001)</td>\n",
       "      <td>Animation|Sci-Fi</td>\n",
       "    </tr>\n",
       "    <tr>\n",
       "      <th>9346</th>\n",
       "      <td>160978</td>\n",
       "      <td>Hellevator (2004)</td>\n",
       "      <td>Horror|Sci-Fi</td>\n",
       "    </tr>\n",
       "    <tr>\n",
       "      <th>6706</th>\n",
       "      <td>58404</td>\n",
       "      <td>Justice League: The New Frontier (2008)</td>\n",
       "      <td>Action|Adventure|Animation|Fantasy|Sci-Fi</td>\n",
       "    </tr>\n",
       "    <tr>\n",
       "      <th>7607</th>\n",
       "      <td>86864</td>\n",
       "      <td>Mothra (Mosura) (1961)</td>\n",
       "      <td>Adventure|Fantasy|Sci-Fi</td>\n",
       "    </tr>\n",
       "    <tr>\n",
       "      <th>902</th>\n",
       "      <td>1200</td>\n",
       "      <td>Aliens (1986)</td>\n",
       "      <td>Action|Adventure|Horror|Sci-Fi</td>\n",
       "    </tr>\n",
       "    <tr>\n",
       "      <th>2316</th>\n",
       "      <td>3070</td>\n",
       "      <td>Adventures of Buckaroo Banzai Across the 8th D...</td>\n",
       "      <td>Adventure|Comedy|Sci-Fi</td>\n",
       "    </tr>\n",
       "    <tr>\n",
       "      <th>1970</th>\n",
       "      <td>2615</td>\n",
       "      <td>My Science Project (1985)</td>\n",
       "      <td>Adventure|Sci-Fi</td>\n",
       "    </tr>\n",
       "    <tr>\n",
       "      <th>7438</th>\n",
       "      <td>80969</td>\n",
       "      <td>Never Let Me Go (2010)</td>\n",
       "      <td>Drama|Romance|Sci-Fi</td>\n",
       "    </tr>\n",
       "  </tbody>\n",
       "</table>\n",
       "</div>"
      ],
      "text/plain": [
       "      movieId                                              title  \\\n",
       "5685    27728  Ghost in the Shell 2: Innocence (a.k.a. Innoce...   \n",
       "8048    98607                                     Redline (2009)   \n",
       "3682     5072                                  Metropolis (2001)   \n",
       "9346   160978                                  Hellevator (2004)   \n",
       "6706    58404           Justice League: The New Frontier (2008)    \n",
       "7607    86864                             Mothra (Mosura) (1961)   \n",
       "902      1200                                      Aliens (1986)   \n",
       "2316     3070  Adventures of Buckaroo Banzai Across the 8th D...   \n",
       "1970     2615                          My Science Project (1985)   \n",
       "7438    80969                             Never Let Me Go (2010)   \n",
       "\n",
       "                                         genres  \n",
       "5685     Action|Animation|Drama|Sci-Fi|Thriller  \n",
       "8048                    Action|Animation|Sci-Fi  \n",
       "3682                           Animation|Sci-Fi  \n",
       "9346                              Horror|Sci-Fi  \n",
       "6706  Action|Adventure|Animation|Fantasy|Sci-Fi  \n",
       "7607                   Adventure|Fantasy|Sci-Fi  \n",
       "902              Action|Adventure|Horror|Sci-Fi  \n",
       "2316                    Adventure|Comedy|Sci-Fi  \n",
       "1970                           Adventure|Sci-Fi  \n",
       "7438                       Drama|Romance|Sci-Fi  "
      ]
     },
     "metadata": {},
     "output_type": "display_data"
    },
    {
     "name": "stdout",
     "output_type": "stream",
     "text": [
      "How do you rate this movie on a scale of 1-5, press n if you have not seen :\n",
      "Ghost in the Shell 2: Innocence (a.k.a. Innocence) (Inosensu) (2004)\n",
      "n\n",
      "How do you rate this movie on a scale of 1-5, press n if you have not seen :\n",
      "Redline (2009)\n",
      "n\n",
      "How do you rate this movie on a scale of 1-5, press n if you have not seen :\n",
      "Metropolis (2001)\n",
      "5\n",
      "How do you rate this movie on a scale of 1-5, press n if you have not seen :\n",
      "Hellevator (2004)\n",
      "n\n",
      "How do you rate this movie on a scale of 1-5, press n if you have not seen :\n",
      "Justice League: The New Frontier (2008) \n",
      "n\n",
      "How do you rate this movie on a scale of 1-5, press n if you have not seen :\n",
      "Mothra (Mosura) (1961)\n",
      "4\n",
      "How do you rate this movie on a scale of 1-5, press n if you have not seen :\n",
      "Aliens (1986)\n",
      "4\n",
      "How do you rate this movie on a scale of 1-5, press n if you have not seen :\n",
      "Adventures of Buckaroo Banzai Across the 8th Dimension, The (1984)\n",
      "3\n",
      "How do you rate this movie on a scale of 1-5, press n if you have not seen :\n",
      "My Science Project (1985)\n",
      "n\n",
      "How do you rate this movie on a scale of 1-5, press n if you have not seen :\n",
      "Never Let Me Go (2010)\n",
      "n\n"
     ]
    }
   ],
   "source": [
    "user_rating = movie_rater(df_movies, 10, 1000, 'Sci')"
   ]
  },
  {
   "cell_type": "code",
   "execution_count": 22,
   "metadata": {
    "ExecuteTime": {
     "end_time": "2020-07-24T16:38:46.197326Z",
     "start_time": "2020-07-24T16:38:46.190894Z"
    },
    "scrolled": true
   },
   "outputs": [
    {
     "data": {
      "text/plain": [
       "[{'userId': 1000, 'movieId': 27728, 'rating': 0.0},\n",
       " {'userId': 1000, 'movieId': 98607, 'rating': 0.0},\n",
       " {'userId': 1000, 'movieId': 5072, 'rating': 5.0},\n",
       " {'userId': 1000, 'movieId': 160978, 'rating': 0.0},\n",
       " {'userId': 1000, 'movieId': 58404, 'rating': 0.0},\n",
       " {'userId': 1000, 'movieId': 86864, 'rating': 4.0},\n",
       " {'userId': 1000, 'movieId': 1200, 'rating': 4.0},\n",
       " {'userId': 1000, 'movieId': 3070, 'rating': 3.0},\n",
       " {'userId': 1000, 'movieId': 2615, 'rating': 0.0},\n",
       " {'userId': 1000, 'movieId': 80969, 'rating': 0.0}]"
      ]
     },
     "execution_count": 22,
     "metadata": {},
     "output_type": "execute_result"
    }
   ],
   "source": [
    "user_rating"
   ]
  },
  {
   "cell_type": "markdown",
   "metadata": {},
   "source": [
    "If you're struggling to come up with the above function, you can use this list of user ratings to complete the next segment"
   ]
  },
  {
   "cell_type": "code",
   "execution_count": 38,
   "metadata": {},
   "outputs": [
    {
     "data": {
      "text/plain": [
       "[{'userId': 1000, 'movieId': 55245, 'rating': '5'},\n",
       " {'userId': 1000, 'movieId': 2491, 'rating': '4'},\n",
       " {'userId': 1000, 'movieId': 4718, 'rating': '4'},\n",
       " {'userId': 1000, 'movieId': 5990, 'rating': '3'}]"
      ]
     },
     "execution_count": 38,
     "metadata": {},
     "output_type": "execute_result"
    }
   ],
   "source": [
    "user_rating"
   ]
  },
  {
   "cell_type": "markdown",
   "metadata": {},
   "source": [
    "### Making Predictions With the New Ratings\n",
    "Now that you have new ratings, you can use them to make predictions for this new user. The proper way this should work is:\n",
    "\n",
    "* add the new ratings to the original ratings DataFrame, read into a `surprise` dataset \n",
    "* train a model using the new combined DataFrame\n",
    "* make predictions for the user\n",
    "* order those predictions from highest rated to lowest rated\n",
    "* return the top n recommendations with the text of the actual movie (rather than just the index number) "
   ]
  },
  {
   "cell_type": "code",
   "execution_count": 24,
   "metadata": {
    "ExecuteTime": {
     "end_time": "2020-07-24T16:54:29.589069Z",
     "start_time": "2020-07-24T16:54:29.419045Z"
    }
   },
   "outputs": [],
   "source": [
    "## add the new ratings to the original ratings DataFrame\n",
    "new_ratings_df = new_df.append(user_rating, ignore_index=True)\n",
    "\n",
    "# create a new dataset from the new dataframe, and use the reader created at the beginning\n",
    "new_data = Dataset.load_from_df(new_ratings_df, reader)"
   ]
  },
  {
   "cell_type": "code",
   "execution_count": 25,
   "metadata": {
    "ExecuteTime": {
     "end_time": "2020-07-24T16:59:43.940174Z",
     "start_time": "2020-07-24T16:59:38.145762Z"
    }
   },
   "outputs": [
    {
     "data": {
      "text/plain": [
       "<surprise.prediction_algorithms.matrix_factorization.SVD at 0x12089c080>"
      ]
     },
     "execution_count": 25,
     "metadata": {},
     "output_type": "execute_result"
    }
   ],
   "source": [
    "# train a model using the new combined DataFrame\n",
    "new_svd = SVD(n_factors= 50, reg_all=0.05)\n",
    "new_svd.fit(new_data.build_full_trainset())"
   ]
  },
  {
   "cell_type": "code",
   "execution_count": 29,
   "metadata": {
    "ExecuteTime": {
     "end_time": "2020-07-24T17:09:19.250415Z",
     "start_time": "2020-07-24T17:09:19.245314Z"
    }
   },
   "outputs": [
    {
     "data": {
      "text/plain": [
       "Prediction(uid=1000, iid=1200, r_ui=None, est=3.0863194921534576, details={'was_impossible': False})"
      ]
     },
     "execution_count": 29,
     "metadata": {},
     "output_type": "execute_result"
    }
   ],
   "source": [
    "new_svd.predict(1000, 1200)"
   ]
  },
  {
   "cell_type": "code",
   "execution_count": 30,
   "metadata": {
    "ExecuteTime": {
     "end_time": "2020-07-24T17:10:06.290880Z",
     "start_time": "2020-07-24T17:10:06.125152Z"
    }
   },
   "outputs": [],
   "source": [
    "# make predictions for the user\n",
    "# you'll probably want to create a list of tuples in the format (movie_id, predicted_score)\n",
    "movie_list = []\n",
    "for movie_id in new_ratings_df.movieId.unique():\n",
    "    prediction = new_svd.predict(1000, movie_id)[3]\n",
    "    movie_list.append((movie_id, prediction))"
   ]
  },
  {
   "cell_type": "code",
   "execution_count": 32,
   "metadata": {
    "ExecuteTime": {
     "end_time": "2020-07-24T17:12:03.667457Z",
     "start_time": "2020-07-24T17:12:03.653829Z"
    }
   },
   "outputs": [
    {
     "data": {
      "text/plain": [
       "[(318, 3.386810582514329),\n",
       " (750, 3.261226330666244),\n",
       " (1276, 3.2577471573862233),\n",
       " (527, 3.25640859438533),\n",
       " (260, 3.2299611183391246),\n",
       " (858, 3.2215232476627107),\n",
       " (3451, 3.2214791386223287),\n",
       " (1104, 3.2158495500822877),\n",
       " (1204, 3.1855057167831533),\n",
       " (741, 3.1820129871813996)]"
      ]
     },
     "execution_count": 32,
     "metadata": {},
     "output_type": "execute_result"
    }
   ],
   "source": [
    "# order the predictions from highest to lowest rated\n",
    "\n",
    "ranked_movies = sorted(movie_list, key=lambda x: x[1], reverse=True)\n",
    "ranked_movies[:10]"
   ]
  },
  {
   "cell_type": "markdown",
   "metadata": {},
   "source": [
    " For the final component of this challenge, it could be useful to create a function `recommended_movies()` that takes in the parameters:\n",
    "* `user_ratings`: list - list of tuples formulated as (user_id, movie_id) (should be in order of best to worst for this individual)\n",
    "* `movie_title_df`: DataFrame \n",
    "* `n`: int - number of recommended movies \n",
    "\n",
    "The function should use a `for` loop to print out each recommended *n* movies in order from best to worst"
   ]
  },
  {
   "cell_type": "code",
   "execution_count": 35,
   "metadata": {
    "ExecuteTime": {
     "end_time": "2020-07-24T17:17:19.120792Z",
     "start_time": "2020-07-24T17:17:19.094324Z"
    }
   },
   "outputs": [
    {
     "name": "stdout",
     "output_type": "stream",
     "text": [
      "Recommendation #1: 277    Shawshank Redemption, The (1994)\n",
      "Name: title, dtype: object\n",
      "Recommendation #2: 602    Dr. Strangelove or: How I Learned to Stop Worr...\n",
      "Name: title, dtype: object\n",
      "Recommendation #3: 975    Cool Hand Luke (1967)\n",
      "Name: title, dtype: object\n",
      "Recommendation #4: 461    Schindler's List (1993)\n",
      "Name: title, dtype: object\n",
      "Recommendation #5: 224    Star Wars: Episode IV - A New Hope (1977)\n",
      "Name: title, dtype: object\n",
      "Recommendation #6: 659    Godfather, The (1972)\n",
      "Name: title, dtype: object\n",
      "Recommendation #7: 2582    Guess Who's Coming to Dinner (1967)\n",
      "Name: title, dtype: object\n",
      "Recommendation #8: 841    Streetcar Named Desire, A (1951)\n",
      "Name: title, dtype: object\n",
      "Recommendation #9: 906    Lawrence of Arabia (1962)\n",
      "Name: title, dtype: object\n",
      "Recommendation #10: 596    Ghost in the Shell (Kôkaku kidôtai) (1995)\n",
      "Name: title, dtype: object\n"
     ]
    }
   ],
   "source": [
    "# return the top n recommendations using the \n",
    "def recommended_movies(user_ratings,movie_title_df,n):\n",
    "    for i in range(n):\n",
    "        movie_title = movie_title_df[movie_title_df['movieId'] == user_ratings[i][0]]['title']\n",
    "        print(f'Recommendation #{i+1}: {movie_title}')\n",
    "            \n",
    "recommended_movies(ranked_movies,df_movies,10)"
   ]
  },
  {
   "cell_type": "markdown",
   "metadata": {},
   "source": [
    "## Level Up (Optional)\n",
    "\n",
    "* Try and chain all of the steps together into one function that asks users for ratings for a certain number of movies, then all of the above steps are performed to return the top $n$ recommendations\n",
    "* Make a recommender system that only returns items that come from a specified genre"
   ]
  },
  {
   "cell_type": "markdown",
   "metadata": {},
   "source": [
    "## Summary\n",
    "\n",
    "In this lab, you got the chance to implement a collaborative filtering model as well as retrieve recommendations from that model. You also got the opportunity to add your own recommendations to the system to get new recommendations for yourself! Next, you will learn how to use Spark to make recommender systems."
   ]
  }
 ],
 "metadata": {
  "kernelspec": {
   "display_name": "learn-env",
   "language": "python",
   "name": "learn-env"
  },
  "language_info": {
   "codemirror_mode": {
    "name": "ipython",
    "version": 3
   },
   "file_extension": ".py",
   "mimetype": "text/x-python",
   "name": "python",
   "nbconvert_exporter": "python",
   "pygments_lexer": "ipython3",
   "version": "3.6.9"
  },
  "toc": {
   "base_numbering": 1,
   "nav_menu": {},
   "number_sections": true,
   "sideBar": true,
   "skip_h1_title": false,
   "title_cell": "Table of Contents",
   "title_sidebar": "Contents",
   "toc_cell": false,
   "toc_position": {},
   "toc_section_display": true,
   "toc_window_display": true
  },
  "varInspector": {
   "cols": {
    "lenName": 16,
    "lenType": 16,
    "lenVar": 40
   },
   "kernels_config": {
    "python": {
     "delete_cmd_postfix": "",
     "delete_cmd_prefix": "del ",
     "library": "var_list.py",
     "varRefreshCmd": "print(var_dic_list())"
    },
    "r": {
     "delete_cmd_postfix": ") ",
     "delete_cmd_prefix": "rm(",
     "library": "var_list.r",
     "varRefreshCmd": "cat(var_dic_list()) "
    }
   },
   "types_to_exclude": [
    "module",
    "function",
    "builtin_function_or_method",
    "instance",
    "_Feature"
   ],
   "window_display": false
  }
 },
 "nbformat": 4,
 "nbformat_minor": 2
}
